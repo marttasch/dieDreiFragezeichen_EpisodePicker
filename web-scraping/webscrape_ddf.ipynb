{
 "cells": [
  {
   "cell_type": "markdown",
   "metadata": {},
   "source": [
    "# Scrape all Drei Fragezeichen Episodes \n",
    "### Import libraries and set up environment"
   ]
  },
  {
   "cell_type": "code",
   "execution_count": 99,
   "metadata": {},
   "outputs": [],
   "source": [
    "import requests\n",
    "from bs4 import BeautifulSoup\n",
    "import json\n",
    "import re\n",
    "\n",
    "\n",
    "base_url = \"https://dreifragezeichen.de/produktwelt/hoerspiele\"  # Replace with the base URL of the audiobook series\n"
   ]
  },
  {
   "cell_type": "code",
   "execution_count": 100,
   "metadata": {},
   "outputs": [
    {
     "name": "stdout",
     "output_type": "stream",
     "text": [
      "Amount of Subpages: 22\n"
     ]
    }
   ],
   "source": [
    "page = requests.get(base_url)\n",
    "soup = BeautifulSoup(page.content, \"html.parser\")\n",
    "\n",
    "max_page = soup.find('ul', class_='pagination').find_all('li')[-2].text\n",
    "print(f'Amount of Subpages: {max_page}')"
   ]
  },
  {
   "cell_type": "markdown",
   "metadata": {},
   "source": [
    "### Scraping"
   ]
  },
  {
   "cell_type": "code",
   "execution_count": null,
   "metadata": {},
   "outputs": [],
   "source": [
    "# iterate over each subpage\n",
    "max_page = 2   # limit pages for testing\n",
    "episode_list = []\n",
    "for page in range(1, int(max_page)+1):\n",
    "    subpage_url = f\"{base_url}?page={page}\"  # Replace with the subpage URL format\n",
    "    print(f'\\nGetting page {page} ...')\n",
    "    print(f'\\t{subpage_url}')\n",
    "\n",
    "    response = requests.get(subpage_url)\n",
    "    soup = BeautifulSoup(response.text, \"html.parser\", from_encoding=\"utf-8\")\n",
    "    #soup = BeautifulSoup(response.text, 'html.parser')\n",
    "\n",
    "    # --- Get all episode cards ---\n",
    "    # Find all the episode elements on the current subpage\n",
    "    episode_cards = soup.find_all(\"div\", class_=\"card-expandable\")  # Replace with the appropriate HTML element and class\n",
    "\n",
    "    # --- Extract episode numbers and links ---\n",
    "    for episode_card in episode_cards:\n",
    "        # get episode number\n",
    "        episode_number = episode_card.find(\"span\", class_=\"d-block\").text   # episode number\n",
    "\n",
    "        # if 'Folge' not 'Special' or something else, skip\n",
    "        if 'Folge' in episode_number:\n",
    "            # if episode number already in list, skip\n",
    "            if any(d['episode_number'] == episode_number for d in episode_list):\n",
    "                continue\n",
    "            \n",
    "            # --- get episode number, title, description, date, image ---\n",
    "            dict = {}\n",
    "            dict['episode_number'] = episode_number.strip('Folge ')  # remove 'Folge ' from episode number\n",
    "\n",
    "            # episode title\n",
    "            episode_title = episode_card.find(\"h3\", class_=\"card-title\").text \n",
    "            episode_title = episode_title.replace('\\n', '').replace('\\t', '')      # remove \\n and \\t\n",
    "            episode_title = episode_title.strip()                                  # remove leading and trailing whitespaces\n",
    "            dict['episode_title'] = episode_title\n",
    "\n",
    "            # episode description\n",
    "            episode_description = episode_card.find('div', class_='card-expander-content').find('p').text   # episode description\n",
    "            dict['episode_description'] = episode_description\n",
    "            \n",
    "            # episode date\n",
    "            episode_date = episode_card.find('div', class_='card-expander-content-title').find_all('span', class_='d-inline')[2].text\n",
    "            date_pattern = re.compile(r'\\d{2}\\.\\d{2}\\.\\d{4}')   # regex pattern for date\n",
    "            episode_date = date_pattern.search(episode_date).group()   # get date from string\n",
    "            dict['episode_date'] = episode_date\n",
    "\n",
    "            # episode image\n",
    "            episode_image = episode_card.find('img', class_='product-thumb')['src'] \n",
    "            dict['episode_image'] = episode_image\n",
    "\n",
    "            # episode page\n",
    "            dict['on_page'] = page\n",
    "\n",
    "\n",
    "            # --- get all links ---\n",
    "            episode_socialRow = episode_card.find(\"div\", class_=\"social-row\")  # social row with all links\n",
    "            episode_allLinks = []\n",
    "            for link in episode_socialRow.find_all('a'):\n",
    "                episode_allLinks.append(link.get('href'))\n",
    "\n",
    "            # sort out the episode link by streaming service\n",
    "            links = {}\n",
    "            for link in episode_allLinks:\n",
    "                if 'spotify' in link:\n",
    "                    links['spotify'] = link\n",
    "                elif 'apple' in link:\n",
    "                    links['apple'] = link\n",
    "                elif 'amazon' in link:\n",
    "                    links['amazon'] = link\n",
    "                elif 'youtube' in link:\n",
    "                    links['youtube'] = link\n",
    "                elif 'deezer' in link:\n",
    "                    links['deezer'] = link\n",
    "                elif 'horspielplayer' in link:\n",
    "                    links['horspielplayer'] = link\n",
    "\n",
    "            # sort links alphabetically by streaming service\n",
    "            links = dict(sorted(links.items()))\n",
    "            dict['episode_links'] = links\n",
    "\n",
    "            # add dict to list\n",
    "            episode_list.append(dict)\n",
    "            "
   ]
  },
  {
   "cell_type": "markdown",
   "metadata": {},
   "source": [
    "### Save as JSON file"
   ]
  },
  {
   "cell_type": "code",
   "execution_count": 98,
   "metadata": {},
   "outputs": [],
   "source": [
    "# sort dict by episode number\n",
    "episode_list.sort(key=lambda x: int(x['episode_number']))\n",
    "# epsidoe list json\n",
    "episode_list_json = json.dumps(episode_list, indent=4)\n",
    "#print(episode_list_json)\n",
    "\n",
    "# write json to file\n",
    "with open('episode_list.json', 'w') as outfile:\n",
    "    json.dump(episode_list, outfile, indent=4)\n",
    "\n",
    "# write json to file as list with name\n",
    "#with open('episode_list.json', 'w') as outfile:\n",
    "#    json.dump({'episode_list': episode_list}, outfile, indent=4)\n",
    "\n",
    "    "
   ]
  },
  {
   "cell_type": "markdown",
   "metadata": {},
   "source": [
    "## Test and Pick random episode"
   ]
  },
  {
   "cell_type": "code",
   "execution_count": null,
   "metadata": {},
   "outputs": [
    {
     "name": "stdout",
     "output_type": "stream",
     "text": [
      "\n",
      "Random episode: Folge 18 - und die Geisterinsel\n",
      "\thttps://open.spotify.com/album/1yqICFWBL4l7fJkrFWvfWL\n"
     ]
    }
   ],
   "source": [
    "# pick random episode and print spotify link\n",
    "import random\n",
    "random_episode = random.choice(episode_list)\n",
    "print(f'\\nRandom episode: {random_episode[\"episode_number\"]} - {random_episode[\"episode_title\"]}')\n",
    "print(f'\\t{random_episode[\"episode_links\"][\"spotify\"]}')\n"
   ]
  },
  {
   "cell_type": "markdown",
   "metadata": {},
   "source": [
    "# Download all Images from the CDN"
   ]
  },
  {
   "cell_type": "code",
   "execution_count": null,
   "metadata": {},
   "outputs": [],
   "source": [
    "# download all images from cdn in episode_list and save to folder\n",
    "import os\n",
    "import json\n",
    "import requests\n",
    "import shutil\n",
    "\n",
    "# import episode list\n",
    "with open('episode_list.json') as json_file:\n",
    "    episode_list = json.load(json_file)\n",
    "\n",
    "# create folder if not exists\n",
    "folder = 'images'\n",
    "if not os.path.exists(folder):\n",
    "    os.makedirs(folder)\n",
    "\n",
    "# download images\n",
    "for episode in episode_list:\n",
    "    image_url = episode['episode_image']\n",
    "    image_name = image_url.split('/')[-1]\n",
    "\n",
    "    # add https to image url\n",
    "    if not image_url.startswith('https:'):\n",
    "        image_url = 'https:' + image_url\n",
    "\n",
    "    res = requests.get(image_url, stream=True)\n",
    "\n",
    "    if res.status_code == 200:\n",
    "        with open(f'{folder}/{image_name}', 'wb') as f:\n",
    "            shutil.copyfileobj(res.raw, f)\n",
    "            print('Image sucessfully Downloaded: ', image_name)\n",
    "    else:\n",
    "        print('Image Couldn\\'t be retreived', image_name)\n",
    "\n",
    "print('\\nDone.')"
   ]
  }
 ],
 "metadata": {
  "kernelspec": {
   "display_name": "Python 3",
   "language": "python",
   "name": "python3"
  },
  "language_info": {
   "codemirror_mode": {
    "name": "ipython",
    "version": 3
   },
   "file_extension": ".py",
   "mimetype": "text/x-python",
   "name": "python",
   "nbconvert_exporter": "python",
   "pygments_lexer": "ipython3",
   "version": "3.10.0"
  },
  "orig_nbformat": 4
 },
 "nbformat": 4,
 "nbformat_minor": 2
}
